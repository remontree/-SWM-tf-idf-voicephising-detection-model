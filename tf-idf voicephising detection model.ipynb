{
 "cells": [
  {
   "cell_type": "code",
   "execution_count": 1,
   "id": "8caacecc",
   "metadata": {
    "executionInfo": {
     "elapsed": 496,
     "status": "ok",
     "timestamp": 1658383306447,
     "user": {
      "displayName": "이종원",
      "userId": "06643152930276410787"
     },
     "user_tz": -540
    },
    "id": "8caacecc"
   },
   "outputs": [],
   "source": [
    "import json\n",
    "\n",
    "a_json = open(\"C:\\\\Users\\\\remon\\OneDrive\\\\바탕 화면\\\\소프트웨어 마에스트로\\\\tf-idf\\\\NEWTEXT\\\\보이스피싱 데이터\\\\bigger_one_result_using_vito.json\", encoding = 'utf-8')\n",
    "a_json = json.load(a_json)\n",
    "\n",
    "b_json = open(\"C:\\\\Users\\\\remon\\OneDrive\\\\바탕 화면\\\\소프트웨어 마에스트로\\\\tf-idf\\\\NEWTEXT\\\\보이스피싱 데이터\\\\smaller_one_result_using_vito.json\", encoding = 'utf-8')\n",
    "b_json = json.load(b_json)"
   ]
  },
  {
   "cell_type": "code",
   "execution_count": 2,
   "id": "2d8673ba",
   "metadata": {
    "executionInfo": {
     "elapsed": 628,
     "status": "ok",
     "timestamp": 1658383309170,
     "user": {
      "displayName": "이종원",
      "userId": "06643152930276410787"
     },
     "user_tz": -540
    },
    "id": "2d8673ba"
   },
   "outputs": [],
   "source": [
    "document = []\n",
    "for i in a_json:\n",
    "    string = \"\"\n",
    "    for j in i:\n",
    "        string += \" \".join(j)\n",
    "    document.append(string)\n",
    "\n",
    "for i in b_json:\n",
    "    string = \"\"\n",
    "    for j in i:\n",
    "        string += \" \".join(j)\n",
    "    document.append(string)"
   ]
  },
  {
   "cell_type": "code",
   "execution_count": 3,
   "id": "32fab733",
   "metadata": {
    "colab": {
     "base_uri": "https://localhost:8080/"
    },
    "executionInfo": {
     "elapsed": 647,
     "status": "ok",
     "timestamp": 1658383313420,
     "user": {
      "displayName": "이종원",
      "userId": "06643152930276410787"
     },
     "user_tz": -540
    },
    "id": "32fab733",
    "outputId": "53378c76-f341-4354-eb45-811750c2aef8"
   },
   "outputs": [
    {
     "data": {
      "text/plain": [
       "524"
      ]
     },
     "execution_count": 3,
     "metadata": {},
     "output_type": "execute_result"
    }
   ],
   "source": [
    "len(a_json+b_json)"
   ]
  },
  {
   "cell_type": "code",
   "execution_count": 4,
   "id": "4b853f29",
   "metadata": {
    "executionInfo": {
     "elapsed": 2,
     "status": "ok",
     "timestamp": 1658383315681,
     "user": {
      "displayName": "이종원",
      "userId": "06643152930276410787"
     },
     "user_tz": -540
    },
    "id": "4b853f29"
   },
   "outputs": [],
   "source": [
    "voicephsing_data = document"
   ]
  },
  {
   "cell_type": "code",
   "execution_count": 5,
   "id": "b32d065a",
   "metadata": {
    "executionInfo": {
     "elapsed": 635,
     "status": "ok",
     "timestamp": 1658383319201,
     "user": {
      "displayName": "이종원",
      "userId": "06643152930276410787"
     },
     "user_tz": -540
    },
    "id": "b32d065a"
   },
   "outputs": [],
   "source": [
    "label = []\n",
    "for i in range(len(voicephsing_data)):\n",
    "    label.append(1)"
   ]
  },
  {
   "cell_type": "code",
   "execution_count": 7,
   "id": "e910a4f3",
   "metadata": {
    "colab": {
     "base_uri": "https://localhost:8080/"
    },
    "executionInfo": {
     "elapsed": 4152,
     "status": "ok",
     "timestamp": 1658383328949,
     "user": {
      "displayName": "이종원",
      "userId": "06643152930276410787"
     },
     "user_tz": -540
    },
    "id": "e910a4f3",
    "outputId": "d3adb751-0cfe-49f1-93d9-2a4b924be6b5"
   },
   "outputs": [
    {
     "name": "stdout",
     "output_type": "stream",
     "text": [
      "텍스트가 저장되어 있는 폴더의 주소를 입력하세요:C:\\Users\\remon\\OneDrive\\바탕 화면\\소프트웨어 마에스트로\\tf-idf\\NEWTEXT\\일반 데이터\\normal_data_Preprocessing_result\n",
      "파일 개수:  559\n",
      "프로그램 실행 중....\n",
      "계산 완료!\n",
      "발견한 txt파일 수:  559\n"
     ]
    }
   ],
   "source": [
    "import math\n",
    "import pandas as pd\n",
    "import matplotlib.pyplot as plt\n",
    "import seaborn as sns\n",
    "import os\n",
    "\n",
    "\n",
    "class Tf_Idf:\n",
    "    def __init__(self, address):\n",
    "        self.document = self.get_document(address)\n",
    "        self.DTM = []\n",
    "        self.DF = []\n",
    "        self.result = []\n",
    "        self.words_index = {}\n",
    "\n",
    "\n",
    "    def get_document(self, address):\n",
    "        doc = []\n",
    "        file = os.listdir(address)\n",
    "        for i in file:\n",
    "            if '.txt' in i:\n",
    "                with open(address + \"/\" + i, 'r', encoding='utf-8') as file:\n",
    "                    contents = file.readlines()\n",
    "                contents = ''.join(contents)\n",
    "                contents = contents.replace(\"\\n\", \"\")\n",
    "                contents = contents.replace(\".\", \"\")\n",
    "                doc.append(contents)\n",
    "        return doc\n",
    "\n",
    "if __name__ == '__main__':\n",
    "    address = input(\"텍스트가 저장되어 있는 폴더의 주소를 입력하세요:\")\n",
    "    print(\"파일 개수: \", len(os.listdir(address)))\n",
    "    print(\"프로그램 실행 중....\")\n",
    "    tfidf = Tf_Idf(address)\n",
    "    print(\"계산 완료!\")\n",
    "    print(\"발견한 txt파일 수: \", len(tfidf.document))"
   ]
  },
  {
   "cell_type": "code",
   "execution_count": 8,
   "id": "cf723581",
   "metadata": {
    "executionInfo": {
     "elapsed": 658,
     "status": "ok",
     "timestamp": 1658383334880,
     "user": {
      "displayName": "이종원",
      "userId": "06643152930276410787"
     },
     "user_tz": -540
    },
    "id": "cf723581"
   },
   "outputs": [],
   "source": [
    "normal_data = tfidf.document"
   ]
  },
  {
   "cell_type": "code",
   "execution_count": 9,
   "id": "9598c3d3",
   "metadata": {
    "colab": {
     "base_uri": "https://localhost:8080/",
     "height": 54
    },
    "executionInfo": {
     "elapsed": 6,
     "status": "ok",
     "timestamp": 1658382581501,
     "user": {
      "displayName": "이종원",
      "userId": "06643152930276410787"
     },
     "user_tz": -540
    },
    "id": "9598c3d3",
    "outputId": "3e1f9c21-5236-4395-ded1-7f7acbd84d72"
   },
   "outputs": [
    {
     "data": {
      "text/plain": [
       "'이까 그거 딱 붙여서 2 라 6 개월 육 개월 다니 고 쫌 셨 다 6 개월 육 개월 다니 고 셨 다 따 1 다니 고 식 으로 난 진짜 에서 쪼끔 거리 잖아 뭐 내가 5 호 선 호선 타 고 다니 도 구 그래 고 거기 샤워 고 러 다닌다는 으로 구 다녔 던 거 애 그리구 그냥 런닝 머신 열심히 고 자전거 열심히 타 고 따른 거 거의 고'"
      ]
     },
     "execution_count": 9,
     "metadata": {},
     "output_type": "execute_result"
    }
   ],
   "source": [
    "'이까 그거 딱 붙여서 2 라 6 개월 육 개월 다니 고 쫌 셨 다 6 개월 육 개월 다니 고 셨 다 따 1 다니 고 식 으로 난 진짜 에서 쪼끔 거리 잖아 뭐 내가 5 호 선 호선 타 고 다니 도 구 그래 고 거기 샤워 고 러 다닌다는 으로 구 다녔 던 거 애 그리구 그냥 런닝 머신 열심히 고 자전거 열심히 타 고 따른 거 거의 고normal_data[0]"
   ]
  },
  {
   "cell_type": "code",
   "execution_count": 10,
   "id": "c3c967be",
   "metadata": {
    "executionInfo": {
     "elapsed": 578,
     "status": "ok",
     "timestamp": 1658383337536,
     "user": {
      "displayName": "이종원",
      "userId": "06643152930276410787"
     },
     "user_tz": -540
    },
    "id": "c3c967be"
   },
   "outputs": [],
   "source": [
    "label2 = []\n",
    "for i in range(len(normal_data)):\n",
    "    label.append(0)"
   ]
  },
  {
   "cell_type": "code",
   "execution_count": 11,
   "id": "53ca7e80",
   "metadata": {
    "executionInfo": {
     "elapsed": 627,
     "status": "ok",
     "timestamp": 1658383342312,
     "user": {
      "displayName": "이종원",
      "userId": "06643152930276410787"
     },
     "user_tz": -540
    },
    "id": "53ca7e80"
   },
   "outputs": [],
   "source": [
    "label = label+label2"
   ]
  },
  {
   "cell_type": "code",
   "execution_count": 12,
   "id": "19db63df",
   "metadata": {
    "colab": {
     "base_uri": "https://localhost:8080/",
     "height": 35
    },
    "executionInfo": {
     "elapsed": 634,
     "status": "ok",
     "timestamp": 1658383347572,
     "user": {
      "displayName": "이종원",
      "userId": "06643152930276410787"
     },
     "user_tz": -540
    },
    "id": "19db63df",
    "outputId": "e9a70898-09ad-4ee1-bc44-b0d0dda45578"
   },
   "outputs": [
    {
     "data": {
      "text/plain": [
       "'dataset'"
      ]
     },
     "execution_count": 12,
     "metadata": {},
     "output_type": "execute_result"
    }
   ],
   "source": [
    "dataset = voicephsing_data+normal_data\n",
    "\"\"\"dataset\"\"\""
   ]
  },
  {
   "cell_type": "code",
   "execution_count": 34,
   "id": "6ad3cd6b",
   "metadata": {},
   "outputs": [],
   "source": [
    "train_xx = dataset[:-216]\n",
    "test_xx = dataset[216:]"
   ]
  },
  {
   "cell_type": "code",
   "execution_count": 13,
   "id": "2d251297",
   "metadata": {
    "colab": {
     "base_uri": "https://localhost:8080/"
    },
    "executionInfo": {
     "elapsed": 634,
     "status": "ok",
     "timestamp": 1658379705479,
     "user": {
      "displayName": "이종원",
      "userId": "06643152930276410787"
     },
     "user_tz": -540
    },
    "id": "2d251297",
    "outputId": "22a66b6c-287f-4309-c29e-e90c1c14672e"
   },
   "outputs": [
    {
     "data": {
      "text/plain": [
       "1083"
      ]
     },
     "execution_count": 13,
     "metadata": {},
     "output_type": "execute_result"
    }
   ],
   "source": [
    "len(dataset)"
   ]
  },
  {
   "cell_type": "code",
   "execution_count": 14,
   "id": "0877818b",
   "metadata": {
    "executionInfo": {
     "elapsed": 2662,
     "status": "ok",
     "timestamp": 1658383355272,
     "user": {
      "displayName": "이종원",
      "userId": "06643152930276410787"
     },
     "user_tz": -540
    },
    "id": "0877818b"
   },
   "outputs": [],
   "source": [
    "from sklearn.feature_extraction.text import TfidfVectorizer \n",
    "\n",
    "tfidf_vectorizer=TfidfVectorizer(use_idf=True)\n",
    "tfidf_vectorizer=TfidfVectorizer(use_idf=True,ngram_range = (1,3),max_df=2,min_df=1)\n",
    "tfidf_vectorizer_vectors=tfidf_vectorizer.fit_transform(train_xx)\n",
    "tfidf_vectorizer_vectors2 = tfidf_vectorizer.fit_transform(test_xx)\n",
    "first_vector_tfidfvectorizer=tfidf_vectorizer_vectors\n",
    "second_vector_tfidfvectorizer=tfidf_vectorizer_vectors2\n",
    "import pandas as pd\n",
    "df = pd.DataFrame(first_vector_tfidfvectorizer.T.todense(), index=tfidf_vectorizer.get_feature_names())\n",
    "df2 = pd.DataFrame(second_vector_tfidfvectorizer.T.todense(), index=tfidf_vectorizer.get_feature_names())"
   ]
  },
  {
   "cell_type": "code",
   "execution_count": null,
   "id": "e7b4dcf0",
   "metadata": {},
   "outputs": [],
   "source": [
    "df"
   ]
  },
  {
   "cell_type": "code",
   "execution_count": null,
   "id": "5a4e5374",
   "metadata": {},
   "outputs": [],
   "source": [
    "df2"
   ]
  },
  {
   "cell_type": "code",
   "execution_count": 15,
   "id": "e22dc02a",
   "metadata": {
    "colab": {
     "base_uri": "https://localhost:8080/",
     "height": 480
    },
    "executionInfo": {
     "elapsed": 1949,
     "status": "ok",
     "timestamp": 1658383360631,
     "user": {
      "displayName": "이종원",
      "userId": "06643152930276410787"
     },
     "user_tz": -540
    },
    "id": "e22dc02a",
    "outputId": "f64ea6ec-4930-4cd6-f0a4-fa8e15c456ab"
   },
   "outputs": [
    {
     "data": {
      "text/html": [
       "<div>\n",
       "<style scoped>\n",
       "    .dataframe tbody tr th:only-of-type {\n",
       "        vertical-align: middle;\n",
       "    }\n",
       "\n",
       "    .dataframe tbody tr th {\n",
       "        vertical-align: top;\n",
       "    }\n",
       "\n",
       "    .dataframe thead th {\n",
       "        text-align: right;\n",
       "    }\n",
       "</style>\n",
       "<table border=\"1\" class=\"dataframe\">\n",
       "  <thead>\n",
       "    <tr style=\"text-align: right;\">\n",
       "      <th></th>\n",
       "      <th>0</th>\n",
       "      <th>1</th>\n",
       "      <th>2</th>\n",
       "      <th>3</th>\n",
       "      <th>4</th>\n",
       "      <th>5</th>\n",
       "      <th>6</th>\n",
       "      <th>7</th>\n",
       "      <th>8</th>\n",
       "      <th>9</th>\n",
       "      <th>...</th>\n",
       "      <th>1073</th>\n",
       "      <th>1074</th>\n",
       "      <th>1075</th>\n",
       "      <th>1076</th>\n",
       "      <th>1077</th>\n",
       "      <th>1078</th>\n",
       "      <th>1079</th>\n",
       "      <th>1080</th>\n",
       "      <th>1081</th>\n",
       "      <th>1082</th>\n",
       "    </tr>\n",
       "  </thead>\n",
       "  <tbody>\n",
       "    <tr>\n",
       "      <th>000</th>\n",
       "      <td>0.0</td>\n",
       "      <td>0.0</td>\n",
       "      <td>0.0</td>\n",
       "      <td>0.0</td>\n",
       "      <td>0.0</td>\n",
       "      <td>0.0</td>\n",
       "      <td>0.0</td>\n",
       "      <td>0.0</td>\n",
       "      <td>0.0</td>\n",
       "      <td>0.0</td>\n",
       "      <td>...</td>\n",
       "      <td>0.0</td>\n",
       "      <td>0.0</td>\n",
       "      <td>0.0</td>\n",
       "      <td>0.0</td>\n",
       "      <td>0.0</td>\n",
       "      <td>0.0</td>\n",
       "      <td>0.0</td>\n",
       "      <td>0.0</td>\n",
       "      <td>0.0</td>\n",
       "      <td>0.0</td>\n",
       "    </tr>\n",
       "    <tr>\n",
       "      <th>000 구입</th>\n",
       "      <td>0.0</td>\n",
       "      <td>0.0</td>\n",
       "      <td>0.0</td>\n",
       "      <td>0.0</td>\n",
       "      <td>0.0</td>\n",
       "      <td>0.0</td>\n",
       "      <td>0.0</td>\n",
       "      <td>0.0</td>\n",
       "      <td>0.0</td>\n",
       "      <td>0.0</td>\n",
       "      <td>...</td>\n",
       "      <td>0.0</td>\n",
       "      <td>0.0</td>\n",
       "      <td>0.0</td>\n",
       "      <td>0.0</td>\n",
       "      <td>0.0</td>\n",
       "      <td>0.0</td>\n",
       "      <td>0.0</td>\n",
       "      <td>0.0</td>\n",
       "      <td>0.0</td>\n",
       "      <td>0.0</td>\n",
       "    </tr>\n",
       "    <tr>\n",
       "      <th>000 구입 근데</th>\n",
       "      <td>0.0</td>\n",
       "      <td>0.0</td>\n",
       "      <td>0.0</td>\n",
       "      <td>0.0</td>\n",
       "      <td>0.0</td>\n",
       "      <td>0.0</td>\n",
       "      <td>0.0</td>\n",
       "      <td>0.0</td>\n",
       "      <td>0.0</td>\n",
       "      <td>0.0</td>\n",
       "      <td>...</td>\n",
       "      <td>0.0</td>\n",
       "      <td>0.0</td>\n",
       "      <td>0.0</td>\n",
       "      <td>0.0</td>\n",
       "      <td>0.0</td>\n",
       "      <td>0.0</td>\n",
       "      <td>0.0</td>\n",
       "      <td>0.0</td>\n",
       "      <td>0.0</td>\n",
       "      <td>0.0</td>\n",
       "    </tr>\n",
       "    <tr>\n",
       "      <th>000 사만</th>\n",
       "      <td>0.0</td>\n",
       "      <td>0.0</td>\n",
       "      <td>0.0</td>\n",
       "      <td>0.0</td>\n",
       "      <td>0.0</td>\n",
       "      <td>0.0</td>\n",
       "      <td>0.0</td>\n",
       "      <td>0.0</td>\n",
       "      <td>0.0</td>\n",
       "      <td>0.0</td>\n",
       "      <td>...</td>\n",
       "      <td>0.0</td>\n",
       "      <td>0.0</td>\n",
       "      <td>0.0</td>\n",
       "      <td>0.0</td>\n",
       "      <td>0.0</td>\n",
       "      <td>0.0</td>\n",
       "      <td>0.0</td>\n",
       "      <td>0.0</td>\n",
       "      <td>0.0</td>\n",
       "      <td>0.0</td>\n",
       "    </tr>\n",
       "    <tr>\n",
       "      <th>000 사만 으니까</th>\n",
       "      <td>0.0</td>\n",
       "      <td>0.0</td>\n",
       "      <td>0.0</td>\n",
       "      <td>0.0</td>\n",
       "      <td>0.0</td>\n",
       "      <td>0.0</td>\n",
       "      <td>0.0</td>\n",
       "      <td>0.0</td>\n",
       "      <td>0.0</td>\n",
       "      <td>0.0</td>\n",
       "      <td>...</td>\n",
       "      <td>0.0</td>\n",
       "      <td>0.0</td>\n",
       "      <td>0.0</td>\n",
       "      <td>0.0</td>\n",
       "      <td>0.0</td>\n",
       "      <td>0.0</td>\n",
       "      <td>0.0</td>\n",
       "      <td>0.0</td>\n",
       "      <td>0.0</td>\n",
       "      <td>0.0</td>\n",
       "    </tr>\n",
       "    <tr>\n",
       "      <th>...</th>\n",
       "      <td>...</td>\n",
       "      <td>...</td>\n",
       "      <td>...</td>\n",
       "      <td>...</td>\n",
       "      <td>...</td>\n",
       "      <td>...</td>\n",
       "      <td>...</td>\n",
       "      <td>...</td>\n",
       "      <td>...</td>\n",
       "      <td>...</td>\n",
       "      <td>...</td>\n",
       "      <td>...</td>\n",
       "      <td>...</td>\n",
       "      <td>...</td>\n",
       "      <td>...</td>\n",
       "      <td>...</td>\n",
       "      <td>...</td>\n",
       "      <td>...</td>\n",
       "      <td>...</td>\n",
       "      <td>...</td>\n",
       "      <td>...</td>\n",
       "    </tr>\n",
       "    <tr>\n",
       "      <th>힘주 어요</th>\n",
       "      <td>0.0</td>\n",
       "      <td>0.0</td>\n",
       "      <td>0.0</td>\n",
       "      <td>0.0</td>\n",
       "      <td>0.0</td>\n",
       "      <td>0.0</td>\n",
       "      <td>0.0</td>\n",
       "      <td>0.0</td>\n",
       "      <td>0.0</td>\n",
       "      <td>0.0</td>\n",
       "      <td>...</td>\n",
       "      <td>0.0</td>\n",
       "      <td>0.0</td>\n",
       "      <td>0.0</td>\n",
       "      <td>0.0</td>\n",
       "      <td>0.0</td>\n",
       "      <td>0.0</td>\n",
       "      <td>0.0</td>\n",
       "      <td>0.0</td>\n",
       "      <td>0.0</td>\n",
       "      <td>0.0</td>\n",
       "    </tr>\n",
       "    <tr>\n",
       "      <th>힘주 어요 본인</th>\n",
       "      <td>0.0</td>\n",
       "      <td>0.0</td>\n",
       "      <td>0.0</td>\n",
       "      <td>0.0</td>\n",
       "      <td>0.0</td>\n",
       "      <td>0.0</td>\n",
       "      <td>0.0</td>\n",
       "      <td>0.0</td>\n",
       "      <td>0.0</td>\n",
       "      <td>0.0</td>\n",
       "      <td>...</td>\n",
       "      <td>0.0</td>\n",
       "      <td>0.0</td>\n",
       "      <td>0.0</td>\n",
       "      <td>0.0</td>\n",
       "      <td>0.0</td>\n",
       "      <td>0.0</td>\n",
       "      <td>0.0</td>\n",
       "      <td>0.0</td>\n",
       "      <td>0.0</td>\n",
       "      <td>0.0</td>\n",
       "    </tr>\n",
       "    <tr>\n",
       "      <th>힙합</th>\n",
       "      <td>0.0</td>\n",
       "      <td>0.0</td>\n",
       "      <td>0.0</td>\n",
       "      <td>0.0</td>\n",
       "      <td>0.0</td>\n",
       "      <td>0.0</td>\n",
       "      <td>0.0</td>\n",
       "      <td>0.0</td>\n",
       "      <td>0.0</td>\n",
       "      <td>0.0</td>\n",
       "      <td>...</td>\n",
       "      <td>0.0</td>\n",
       "      <td>0.0</td>\n",
       "      <td>0.0</td>\n",
       "      <td>0.0</td>\n",
       "      <td>0.0</td>\n",
       "      <td>0.0</td>\n",
       "      <td>0.0</td>\n",
       "      <td>0.0</td>\n",
       "      <td>0.0</td>\n",
       "      <td>0.0</td>\n",
       "    </tr>\n",
       "    <tr>\n",
       "      <th>힙합 수업</th>\n",
       "      <td>0.0</td>\n",
       "      <td>0.0</td>\n",
       "      <td>0.0</td>\n",
       "      <td>0.0</td>\n",
       "      <td>0.0</td>\n",
       "      <td>0.0</td>\n",
       "      <td>0.0</td>\n",
       "      <td>0.0</td>\n",
       "      <td>0.0</td>\n",
       "      <td>0.0</td>\n",
       "      <td>...</td>\n",
       "      <td>0.0</td>\n",
       "      <td>0.0</td>\n",
       "      <td>0.0</td>\n",
       "      <td>0.0</td>\n",
       "      <td>0.0</td>\n",
       "      <td>0.0</td>\n",
       "      <td>0.0</td>\n",
       "      <td>0.0</td>\n",
       "      <td>0.0</td>\n",
       "      <td>0.0</td>\n",
       "    </tr>\n",
       "    <tr>\n",
       "      <th>힙합 수업 인수인계</th>\n",
       "      <td>0.0</td>\n",
       "      <td>0.0</td>\n",
       "      <td>0.0</td>\n",
       "      <td>0.0</td>\n",
       "      <td>0.0</td>\n",
       "      <td>0.0</td>\n",
       "      <td>0.0</td>\n",
       "      <td>0.0</td>\n",
       "      <td>0.0</td>\n",
       "      <td>0.0</td>\n",
       "      <td>...</td>\n",
       "      <td>0.0</td>\n",
       "      <td>0.0</td>\n",
       "      <td>0.0</td>\n",
       "      <td>0.0</td>\n",
       "      <td>0.0</td>\n",
       "      <td>0.0</td>\n",
       "      <td>0.0</td>\n",
       "      <td>0.0</td>\n",
       "      <td>0.0</td>\n",
       "      <td>0.0</td>\n",
       "    </tr>\n",
       "  </tbody>\n",
       "</table>\n",
       "<p>358823 rows × 1083 columns</p>\n",
       "</div>"
      ],
      "text/plain": [
       "            0     1     2     3     4     5     6     7     8     9     ...  \\\n",
       "000          0.0   0.0   0.0   0.0   0.0   0.0   0.0   0.0   0.0   0.0  ...   \n",
       "000 구입       0.0   0.0   0.0   0.0   0.0   0.0   0.0   0.0   0.0   0.0  ...   \n",
       "000 구입 근데    0.0   0.0   0.0   0.0   0.0   0.0   0.0   0.0   0.0   0.0  ...   \n",
       "000 사만       0.0   0.0   0.0   0.0   0.0   0.0   0.0   0.0   0.0   0.0  ...   \n",
       "000 사만 으니까   0.0   0.0   0.0   0.0   0.0   0.0   0.0   0.0   0.0   0.0  ...   \n",
       "...          ...   ...   ...   ...   ...   ...   ...   ...   ...   ...  ...   \n",
       "힘주 어요        0.0   0.0   0.0   0.0   0.0   0.0   0.0   0.0   0.0   0.0  ...   \n",
       "힘주 어요 본인     0.0   0.0   0.0   0.0   0.0   0.0   0.0   0.0   0.0   0.0  ...   \n",
       "힙합           0.0   0.0   0.0   0.0   0.0   0.0   0.0   0.0   0.0   0.0  ...   \n",
       "힙합 수업        0.0   0.0   0.0   0.0   0.0   0.0   0.0   0.0   0.0   0.0  ...   \n",
       "힙합 수업 인수인계   0.0   0.0   0.0   0.0   0.0   0.0   0.0   0.0   0.0   0.0  ...   \n",
       "\n",
       "            1073  1074  1075  1076  1077  1078  1079  1080  1081  1082  \n",
       "000          0.0   0.0   0.0   0.0   0.0   0.0   0.0   0.0   0.0   0.0  \n",
       "000 구입       0.0   0.0   0.0   0.0   0.0   0.0   0.0   0.0   0.0   0.0  \n",
       "000 구입 근데    0.0   0.0   0.0   0.0   0.0   0.0   0.0   0.0   0.0   0.0  \n",
       "000 사만       0.0   0.0   0.0   0.0   0.0   0.0   0.0   0.0   0.0   0.0  \n",
       "000 사만 으니까   0.0   0.0   0.0   0.0   0.0   0.0   0.0   0.0   0.0   0.0  \n",
       "...          ...   ...   ...   ...   ...   ...   ...   ...   ...   ...  \n",
       "힘주 어요        0.0   0.0   0.0   0.0   0.0   0.0   0.0   0.0   0.0   0.0  \n",
       "힘주 어요 본인     0.0   0.0   0.0   0.0   0.0   0.0   0.0   0.0   0.0   0.0  \n",
       "힙합           0.0   0.0   0.0   0.0   0.0   0.0   0.0   0.0   0.0   0.0  \n",
       "힙합 수업        0.0   0.0   0.0   0.0   0.0   0.0   0.0   0.0   0.0   0.0  \n",
       "힙합 수업 인수인계   0.0   0.0   0.0   0.0   0.0   0.0   0.0   0.0   0.0   0.0  \n",
       "\n",
       "[358823 rows x 1083 columns]"
      ]
     },
     "execution_count": 15,
     "metadata": {},
     "output_type": "execute_result"
    }
   ],
   "source": [
    "first_vector_tfidfvectorizer=tfidf_vectorizer_vectors\n",
    "second_vector_tfidfvectorizer=tfidf_vectorizer_vectors2\n",
    "import pandas as pd\n",
    "df = pd.DataFrame(first_vector_tfidfvectorizer.T.todense(), index=tfidf_vectorizer.get_feature_names())\n",
    "df"
   ]
  },
  {
   "cell_type": "code",
   "execution_count": 16,
   "id": "417b3416",
   "metadata": {
    "colab": {
     "base_uri": "https://localhost:8080/",
     "height": 485
    },
    "executionInfo": {
     "elapsed": 727,
     "status": "ok",
     "timestamp": 1658383364930,
     "user": {
      "displayName": "이종원",
      "userId": "06643152930276410787"
     },
     "user_tz": -540
    },
    "id": "417b3416",
    "outputId": "1909bead-9ddb-40d5-dbaf-235aa0b18115"
   },
   "outputs": [
    {
     "data": {
      "text/html": [
       "<div>\n",
       "<style scoped>\n",
       "    .dataframe tbody tr th:only-of-type {\n",
       "        vertical-align: middle;\n",
       "    }\n",
       "\n",
       "    .dataframe tbody tr th {\n",
       "        vertical-align: top;\n",
       "    }\n",
       "\n",
       "    .dataframe thead th {\n",
       "        text-align: right;\n",
       "    }\n",
       "</style>\n",
       "<table border=\"1\" class=\"dataframe\">\n",
       "  <thead>\n",
       "    <tr style=\"text-align: right;\">\n",
       "      <th></th>\n",
       "      <th>000</th>\n",
       "      <th>000 구입</th>\n",
       "      <th>000 구입 근데</th>\n",
       "      <th>000 사만</th>\n",
       "      <th>000 사만 으니까</th>\n",
       "      <th>000 와서</th>\n",
       "      <th>000 와서 지네</th>\n",
       "      <th>000 잖아</th>\n",
       "      <th>000 잖아 근데</th>\n",
       "      <th>000 칠천</th>\n",
       "      <th>...</th>\n",
       "      <th>힘들 해서 부도</th>\n",
       "      <th>힘없이</th>\n",
       "      <th>힘없이 이렇게</th>\n",
       "      <th>힘없이 이렇게 누워</th>\n",
       "      <th>힘주</th>\n",
       "      <th>힘주 어요</th>\n",
       "      <th>힘주 어요 본인</th>\n",
       "      <th>힙합</th>\n",
       "      <th>힙합 수업</th>\n",
       "      <th>힙합 수업 인수인계</th>\n",
       "    </tr>\n",
       "  </thead>\n",
       "  <tbody>\n",
       "    <tr>\n",
       "      <th>0</th>\n",
       "      <td>0.0</td>\n",
       "      <td>0.0</td>\n",
       "      <td>0.0</td>\n",
       "      <td>0.0</td>\n",
       "      <td>0.0</td>\n",
       "      <td>0.0</td>\n",
       "      <td>0.0</td>\n",
       "      <td>0.0</td>\n",
       "      <td>0.0</td>\n",
       "      <td>0.0</td>\n",
       "      <td>...</td>\n",
       "      <td>0.0</td>\n",
       "      <td>0.0</td>\n",
       "      <td>0.0</td>\n",
       "      <td>0.0</td>\n",
       "      <td>0.0</td>\n",
       "      <td>0.0</td>\n",
       "      <td>0.0</td>\n",
       "      <td>0.0</td>\n",
       "      <td>0.0</td>\n",
       "      <td>0.0</td>\n",
       "    </tr>\n",
       "    <tr>\n",
       "      <th>1</th>\n",
       "      <td>0.0</td>\n",
       "      <td>0.0</td>\n",
       "      <td>0.0</td>\n",
       "      <td>0.0</td>\n",
       "      <td>0.0</td>\n",
       "      <td>0.0</td>\n",
       "      <td>0.0</td>\n",
       "      <td>0.0</td>\n",
       "      <td>0.0</td>\n",
       "      <td>0.0</td>\n",
       "      <td>...</td>\n",
       "      <td>0.0</td>\n",
       "      <td>0.0</td>\n",
       "      <td>0.0</td>\n",
       "      <td>0.0</td>\n",
       "      <td>0.0</td>\n",
       "      <td>0.0</td>\n",
       "      <td>0.0</td>\n",
       "      <td>0.0</td>\n",
       "      <td>0.0</td>\n",
       "      <td>0.0</td>\n",
       "    </tr>\n",
       "    <tr>\n",
       "      <th>2</th>\n",
       "      <td>0.0</td>\n",
       "      <td>0.0</td>\n",
       "      <td>0.0</td>\n",
       "      <td>0.0</td>\n",
       "      <td>0.0</td>\n",
       "      <td>0.0</td>\n",
       "      <td>0.0</td>\n",
       "      <td>0.0</td>\n",
       "      <td>0.0</td>\n",
       "      <td>0.0</td>\n",
       "      <td>...</td>\n",
       "      <td>0.0</td>\n",
       "      <td>0.0</td>\n",
       "      <td>0.0</td>\n",
       "      <td>0.0</td>\n",
       "      <td>0.0</td>\n",
       "      <td>0.0</td>\n",
       "      <td>0.0</td>\n",
       "      <td>0.0</td>\n",
       "      <td>0.0</td>\n",
       "      <td>0.0</td>\n",
       "    </tr>\n",
       "    <tr>\n",
       "      <th>3</th>\n",
       "      <td>0.0</td>\n",
       "      <td>0.0</td>\n",
       "      <td>0.0</td>\n",
       "      <td>0.0</td>\n",
       "      <td>0.0</td>\n",
       "      <td>0.0</td>\n",
       "      <td>0.0</td>\n",
       "      <td>0.0</td>\n",
       "      <td>0.0</td>\n",
       "      <td>0.0</td>\n",
       "      <td>...</td>\n",
       "      <td>0.0</td>\n",
       "      <td>0.0</td>\n",
       "      <td>0.0</td>\n",
       "      <td>0.0</td>\n",
       "      <td>0.0</td>\n",
       "      <td>0.0</td>\n",
       "      <td>0.0</td>\n",
       "      <td>0.0</td>\n",
       "      <td>0.0</td>\n",
       "      <td>0.0</td>\n",
       "    </tr>\n",
       "    <tr>\n",
       "      <th>4</th>\n",
       "      <td>0.0</td>\n",
       "      <td>0.0</td>\n",
       "      <td>0.0</td>\n",
       "      <td>0.0</td>\n",
       "      <td>0.0</td>\n",
       "      <td>0.0</td>\n",
       "      <td>0.0</td>\n",
       "      <td>0.0</td>\n",
       "      <td>0.0</td>\n",
       "      <td>0.0</td>\n",
       "      <td>...</td>\n",
       "      <td>0.0</td>\n",
       "      <td>0.0</td>\n",
       "      <td>0.0</td>\n",
       "      <td>0.0</td>\n",
       "      <td>0.0</td>\n",
       "      <td>0.0</td>\n",
       "      <td>0.0</td>\n",
       "      <td>0.0</td>\n",
       "      <td>0.0</td>\n",
       "      <td>0.0</td>\n",
       "    </tr>\n",
       "    <tr>\n",
       "      <th>...</th>\n",
       "      <td>...</td>\n",
       "      <td>...</td>\n",
       "      <td>...</td>\n",
       "      <td>...</td>\n",
       "      <td>...</td>\n",
       "      <td>...</td>\n",
       "      <td>...</td>\n",
       "      <td>...</td>\n",
       "      <td>...</td>\n",
       "      <td>...</td>\n",
       "      <td>...</td>\n",
       "      <td>...</td>\n",
       "      <td>...</td>\n",
       "      <td>...</td>\n",
       "      <td>...</td>\n",
       "      <td>...</td>\n",
       "      <td>...</td>\n",
       "      <td>...</td>\n",
       "      <td>...</td>\n",
       "      <td>...</td>\n",
       "      <td>...</td>\n",
       "    </tr>\n",
       "    <tr>\n",
       "      <th>1078</th>\n",
       "      <td>0.0</td>\n",
       "      <td>0.0</td>\n",
       "      <td>0.0</td>\n",
       "      <td>0.0</td>\n",
       "      <td>0.0</td>\n",
       "      <td>0.0</td>\n",
       "      <td>0.0</td>\n",
       "      <td>0.0</td>\n",
       "      <td>0.0</td>\n",
       "      <td>0.0</td>\n",
       "      <td>...</td>\n",
       "      <td>0.0</td>\n",
       "      <td>0.0</td>\n",
       "      <td>0.0</td>\n",
       "      <td>0.0</td>\n",
       "      <td>0.0</td>\n",
       "      <td>0.0</td>\n",
       "      <td>0.0</td>\n",
       "      <td>0.0</td>\n",
       "      <td>0.0</td>\n",
       "      <td>0.0</td>\n",
       "    </tr>\n",
       "    <tr>\n",
       "      <th>1079</th>\n",
       "      <td>0.0</td>\n",
       "      <td>0.0</td>\n",
       "      <td>0.0</td>\n",
       "      <td>0.0</td>\n",
       "      <td>0.0</td>\n",
       "      <td>0.0</td>\n",
       "      <td>0.0</td>\n",
       "      <td>0.0</td>\n",
       "      <td>0.0</td>\n",
       "      <td>0.0</td>\n",
       "      <td>...</td>\n",
       "      <td>0.0</td>\n",
       "      <td>0.0</td>\n",
       "      <td>0.0</td>\n",
       "      <td>0.0</td>\n",
       "      <td>0.0</td>\n",
       "      <td>0.0</td>\n",
       "      <td>0.0</td>\n",
       "      <td>0.0</td>\n",
       "      <td>0.0</td>\n",
       "      <td>0.0</td>\n",
       "    </tr>\n",
       "    <tr>\n",
       "      <th>1080</th>\n",
       "      <td>0.0</td>\n",
       "      <td>0.0</td>\n",
       "      <td>0.0</td>\n",
       "      <td>0.0</td>\n",
       "      <td>0.0</td>\n",
       "      <td>0.0</td>\n",
       "      <td>0.0</td>\n",
       "      <td>0.0</td>\n",
       "      <td>0.0</td>\n",
       "      <td>0.0</td>\n",
       "      <td>...</td>\n",
       "      <td>0.0</td>\n",
       "      <td>0.0</td>\n",
       "      <td>0.0</td>\n",
       "      <td>0.0</td>\n",
       "      <td>0.0</td>\n",
       "      <td>0.0</td>\n",
       "      <td>0.0</td>\n",
       "      <td>0.0</td>\n",
       "      <td>0.0</td>\n",
       "      <td>0.0</td>\n",
       "    </tr>\n",
       "    <tr>\n",
       "      <th>1081</th>\n",
       "      <td>0.0</td>\n",
       "      <td>0.0</td>\n",
       "      <td>0.0</td>\n",
       "      <td>0.0</td>\n",
       "      <td>0.0</td>\n",
       "      <td>0.0</td>\n",
       "      <td>0.0</td>\n",
       "      <td>0.0</td>\n",
       "      <td>0.0</td>\n",
       "      <td>0.0</td>\n",
       "      <td>...</td>\n",
       "      <td>0.0</td>\n",
       "      <td>0.0</td>\n",
       "      <td>0.0</td>\n",
       "      <td>0.0</td>\n",
       "      <td>0.0</td>\n",
       "      <td>0.0</td>\n",
       "      <td>0.0</td>\n",
       "      <td>0.0</td>\n",
       "      <td>0.0</td>\n",
       "      <td>0.0</td>\n",
       "    </tr>\n",
       "    <tr>\n",
       "      <th>1082</th>\n",
       "      <td>0.0</td>\n",
       "      <td>0.0</td>\n",
       "      <td>0.0</td>\n",
       "      <td>0.0</td>\n",
       "      <td>0.0</td>\n",
       "      <td>0.0</td>\n",
       "      <td>0.0</td>\n",
       "      <td>0.0</td>\n",
       "      <td>0.0</td>\n",
       "      <td>0.0</td>\n",
       "      <td>...</td>\n",
       "      <td>0.0</td>\n",
       "      <td>0.0</td>\n",
       "      <td>0.0</td>\n",
       "      <td>0.0</td>\n",
       "      <td>0.0</td>\n",
       "      <td>0.0</td>\n",
       "      <td>0.0</td>\n",
       "      <td>0.0</td>\n",
       "      <td>0.0</td>\n",
       "      <td>0.0</td>\n",
       "    </tr>\n",
       "  </tbody>\n",
       "</table>\n",
       "<p>1083 rows × 358823 columns</p>\n",
       "</div>"
      ],
      "text/plain": [
       "      000  000 구입  000 구입 근데  000 사만  000 사만 으니까  000 와서  000 와서 지네  000 잖아  \\\n",
       "0     0.0     0.0        0.0     0.0         0.0     0.0        0.0     0.0   \n",
       "1     0.0     0.0        0.0     0.0         0.0     0.0        0.0     0.0   \n",
       "2     0.0     0.0        0.0     0.0         0.0     0.0        0.0     0.0   \n",
       "3     0.0     0.0        0.0     0.0         0.0     0.0        0.0     0.0   \n",
       "4     0.0     0.0        0.0     0.0         0.0     0.0        0.0     0.0   \n",
       "...   ...     ...        ...     ...         ...     ...        ...     ...   \n",
       "1078  0.0     0.0        0.0     0.0         0.0     0.0        0.0     0.0   \n",
       "1079  0.0     0.0        0.0     0.0         0.0     0.0        0.0     0.0   \n",
       "1080  0.0     0.0        0.0     0.0         0.0     0.0        0.0     0.0   \n",
       "1081  0.0     0.0        0.0     0.0         0.0     0.0        0.0     0.0   \n",
       "1082  0.0     0.0        0.0     0.0         0.0     0.0        0.0     0.0   \n",
       "\n",
       "      000 잖아 근데  000 칠천  ...  힘들 해서 부도  힘없이  힘없이 이렇게  힘없이 이렇게 누워   힘주  힘주 어요  \\\n",
       "0           0.0     0.0  ...       0.0  0.0      0.0         0.0  0.0    0.0   \n",
       "1           0.0     0.0  ...       0.0  0.0      0.0         0.0  0.0    0.0   \n",
       "2           0.0     0.0  ...       0.0  0.0      0.0         0.0  0.0    0.0   \n",
       "3           0.0     0.0  ...       0.0  0.0      0.0         0.0  0.0    0.0   \n",
       "4           0.0     0.0  ...       0.0  0.0      0.0         0.0  0.0    0.0   \n",
       "...         ...     ...  ...       ...  ...      ...         ...  ...    ...   \n",
       "1078        0.0     0.0  ...       0.0  0.0      0.0         0.0  0.0    0.0   \n",
       "1079        0.0     0.0  ...       0.0  0.0      0.0         0.0  0.0    0.0   \n",
       "1080        0.0     0.0  ...       0.0  0.0      0.0         0.0  0.0    0.0   \n",
       "1081        0.0     0.0  ...       0.0  0.0      0.0         0.0  0.0    0.0   \n",
       "1082        0.0     0.0  ...       0.0  0.0      0.0         0.0  0.0    0.0   \n",
       "\n",
       "      힘주 어요 본인   힙합  힙합 수업  힙합 수업 인수인계  \n",
       "0          0.0  0.0    0.0         0.0  \n",
       "1          0.0  0.0    0.0         0.0  \n",
       "2          0.0  0.0    0.0         0.0  \n",
       "3          0.0  0.0    0.0         0.0  \n",
       "4          0.0  0.0    0.0         0.0  \n",
       "...        ...  ...    ...         ...  \n",
       "1078       0.0  0.0    0.0         0.0  \n",
       "1079       0.0  0.0    0.0         0.0  \n",
       "1080       0.0  0.0    0.0         0.0  \n",
       "1081       0.0  0.0    0.0         0.0  \n",
       "1082       0.0  0.0    0.0         0.0  \n",
       "\n",
       "[1083 rows x 358823 columns]"
      ]
     },
     "execution_count": 16,
     "metadata": {},
     "output_type": "execute_result"
    }
   ],
   "source": [
    "df=df.transpose()\n",
    "df"
   ]
  },
  {
   "cell_type": "code",
   "execution_count": 17,
   "id": "FJ_qGkKJTon0",
   "metadata": {
    "executionInfo": {
     "elapsed": 633,
     "status": "ok",
     "timestamp": 1658383369563,
     "user": {
      "displayName": "이종원",
      "userId": "06643152930276410787"
     },
     "user_tz": -540
    },
    "id": "FJ_qGkKJTon0"
   },
   "outputs": [],
   "source": [
    "df.insert(358823 ,\"label\",label,True)"
   ]
  },
  {
   "cell_type": "code",
   "execution_count": 18,
   "id": "z9P2nM5PT81Y",
   "metadata": {
    "executionInfo": {
     "elapsed": 637,
     "status": "ok",
     "timestamp": 1658383374112,
     "user": {
      "displayName": "이종원",
      "userId": "06643152930276410787"
     },
     "user_tz": -540
    },
    "id": "z9P2nM5PT81Y"
   },
   "outputs": [],
   "source": [
    "df = df.sample(frac=1)"
   ]
  },
  {
   "cell_type": "code",
   "execution_count": 19,
   "id": "0eba6269",
   "metadata": {
    "executionInfo": {
     "elapsed": 1919,
     "status": "ok",
     "timestamp": 1658383202213,
     "user": {
      "displayName": "이종원",
      "userId": "06643152930276410787"
     },
     "user_tz": -540
    },
    "id": "0eba6269"
   },
   "outputs": [],
   "source": [
    "data = df.iloc[:,:-1].to_numpy()\n",
    "label = df.iloc[:,-1:].to_numpy()"
   ]
  },
  {
   "cell_type": "code",
   "execution_count": 20,
   "id": "fa7875c1",
   "metadata": {
    "executionInfo": {
     "elapsed": 623,
     "status": "ok",
     "timestamp": 1658383205741,
     "user": {
      "displayName": "이종원",
      "userId": "06643152930276410787"
     },
     "user_tz": -540
    },
    "id": "fa7875c1"
   },
   "outputs": [],
   "source": [
    "train_X = data[:-216]\n",
    "train_Y = label[:-216]\n",
    "\n",
    "test_X = data[-216:]\n",
    "test_Y = label[-216:]"
   ]
  },
  {
   "cell_type": "code",
   "execution_count": 21,
   "id": "0b6dca63",
   "metadata": {
    "colab": {
     "base_uri": "https://localhost:8080/"
    },
    "executionInfo": {
     "elapsed": 799,
     "status": "ok",
     "timestamp": 1658383209868,
     "user": {
      "displayName": "이종원",
      "userId": "06643152930276410787"
     },
     "user_tz": -540
    },
    "id": "0b6dca63",
    "outputId": "9db28ac5-4a26-4bdc-cf77-c39ee6513272"
   },
   "outputs": [
    {
     "data": {
      "text/plain": [
       "(867, 358823)"
      ]
     },
     "execution_count": 21,
     "metadata": {},
     "output_type": "execute_result"
    }
   ],
   "source": [
    "train_X.shape"
   ]
  },
  {
   "cell_type": "code",
   "execution_count": 27,
   "id": "HL__WQldH6JS",
   "metadata": {
    "colab": {
     "base_uri": "https://localhost:8080/"
    },
    "collapsed": true,
    "executionInfo": {
     "elapsed": 10862,
     "status": "ok",
     "timestamp": 1658383223434,
     "user": {
      "displayName": "이종원",
      "userId": "06643152930276410787"
     },
     "user_tz": -540
    },
    "id": "HL__WQldH6JS",
    "outputId": "48fee780-e503-4826-d988-f48ae82b2eeb"
   },
   "outputs": [
    {
     "name": "stdout",
     "output_type": "stream",
     "text": [
      "\n"
     ]
    },
    {
     "ename": "SystemError",
     "evalue": "GPU device not found",
     "output_type": "error",
     "traceback": [
      "\u001b[0;31m---------------------------------------------------------------------------\u001b[0m",
      "\u001b[0;31mSystemError\u001b[0m                               Traceback (most recent call last)",
      "\u001b[0;32m<ipython-input-27-81f310d7359e>\u001b[0m in \u001b[0;36m<module>\u001b[0;34m\u001b[0m\n\u001b[1;32m      3\u001b[0m \u001b[0mprint\u001b[0m\u001b[0;34m(\u001b[0m\u001b[0mdevice_name\u001b[0m\u001b[0;34m)\u001b[0m\u001b[0;34m\u001b[0m\u001b[0;34m\u001b[0m\u001b[0m\n\u001b[1;32m      4\u001b[0m \u001b[0;32mif\u001b[0m \u001b[0mdevice_name\u001b[0m \u001b[0;34m!=\u001b[0m \u001b[0;34m'/device:GPU:0'\u001b[0m\u001b[0;34m:\u001b[0m\u001b[0;34m\u001b[0m\u001b[0;34m\u001b[0m\u001b[0m\n\u001b[0;32m----> 5\u001b[0;31m   \u001b[0;32mraise\u001b[0m \u001b[0mSystemError\u001b[0m\u001b[0;34m(\u001b[0m\u001b[0;34m'GPU device not found'\u001b[0m\u001b[0;34m)\u001b[0m\u001b[0;34m\u001b[0m\u001b[0;34m\u001b[0m\u001b[0m\n\u001b[0m\u001b[1;32m      6\u001b[0m \u001b[0mprint\u001b[0m\u001b[0;34m(\u001b[0m\u001b[0;34m'Found GPU at: {}'\u001b[0m\u001b[0;34m.\u001b[0m\u001b[0mformat\u001b[0m\u001b[0;34m(\u001b[0m\u001b[0mdevice_name\u001b[0m\u001b[0;34m)\u001b[0m\u001b[0;34m)\u001b[0m\u001b[0;34m\u001b[0m\u001b[0;34m\u001b[0m\u001b[0m\n",
      "\u001b[0;31mSystemError\u001b[0m: GPU device not found"
     ]
    }
   ],
   "source": [
    "import tensorflow as tf\n",
    "device_name = tf.test.gpu_device_name()\n",
    "print(device_name)\n",
    "if device_name != '/device:GPU:0':\n",
    "  raise SystemError('GPU device not found')\n",
    "print('Found GPU at: {}'.format(device_name))"
   ]
  },
  {
   "cell_type": "code",
   "execution_count": null,
   "id": "mLLEU257KUUx",
   "metadata": {
    "id": "mLLEU257KUUx"
   },
   "outputs": [],
   "source": [
    "import numpy as np\n",
    "train_Y = np.array(train_Y)"
   ]
  },
  {
   "cell_type": "code",
   "execution_count": 30,
   "id": "713f59e7",
   "metadata": {
    "id": "713f59e7"
   },
   "outputs": [
    {
     "name": "stdout",
     "output_type": "stream",
     "text": [
      "Epoch 1/50\n",
      "9/9 [==============================] - 49s 4s/step - loss: 0.6914 - accuracy: 0.5329 - val_loss: 0.6920 - val_accuracy: 0.4722\n",
      "Epoch 2/50\n",
      "9/9 [==============================] - 32s 4s/step - loss: 0.5669 - accuracy: 0.8927 - val_loss: 0.6445 - val_accuracy: 0.5556\n",
      "Epoch 3/50\n",
      "9/9 [==============================] - 27s 3s/step - loss: 0.1358 - accuracy: 0.9977 - val_loss: 0.7289 - val_accuracy: 0.5926\n",
      "Epoch 4/50\n",
      "9/9 [==============================] - 28s 3s/step - loss: 0.0024 - accuracy: 1.0000 - val_loss: 0.4725 - val_accuracy: 0.7361\n",
      "Epoch 5/50\n",
      "9/9 [==============================] - 29s 3s/step - loss: 2.8261e-05 - accuracy: 1.0000 - val_loss: 0.3247 - val_accuracy: 0.8194\n",
      "Epoch 6/50\n",
      "9/9 [==============================] - 28s 3s/step - loss: 2.5956e-06 - accuracy: 1.0000 - val_loss: 0.2700 - val_accuracy: 0.8704\n",
      "Epoch 7/50\n",
      "9/9 [==============================] - 30s 3s/step - loss: 7.7904e-07 - accuracy: 1.0000 - val_loss: 0.2494 - val_accuracy: 0.8889\n",
      "Epoch 8/50\n",
      "9/9 [==============================] - 29s 3s/step - loss: 4.5689e-07 - accuracy: 1.0000 - val_loss: 0.2414 - val_accuracy: 0.8935\n",
      "Epoch 9/50\n",
      "9/9 [==============================] - 33s 4s/step - loss: 5.6014e-07 - accuracy: 1.0000 - val_loss: 0.2382 - val_accuracy: 0.8935\n",
      "Epoch 10/50\n",
      "9/9 [==============================] - 32s 4s/step - loss: 8.3804e-07 - accuracy: 1.0000 - val_loss: 0.2368 - val_accuracy: 0.8935\n",
      "Epoch 11/50\n",
      "9/9 [==============================] - 32s 4s/step - loss: 2.5368e-07 - accuracy: 1.0000 - val_loss: 0.2363 - val_accuracy: 0.8935\n",
      "Epoch 12/50\n",
      "9/9 [==============================] - 31s 3s/step - loss: 2.1999e-07 - accuracy: 1.0000 - val_loss: 0.2361 - val_accuracy: 0.8935\n",
      "Epoch 13/50\n",
      "9/9 [==============================] - 31s 3s/step - loss: 2.7527e-07 - accuracy: 1.0000 - val_loss: 0.2361 - val_accuracy: 0.8935\n",
      "Epoch 14/50\n",
      "9/9 [==============================] - 31s 3s/step - loss: 2.4763e-07 - accuracy: 1.0000 - val_loss: 0.2361 - val_accuracy: 0.8935\n",
      "Epoch 15/50\n",
      "9/9 [==============================] - 31s 3s/step - loss: 4.0437e-07 - accuracy: 1.0000 - val_loss: 0.2362 - val_accuracy: 0.8935\n",
      "Epoch 16/50\n",
      "9/9 [==============================] - 30s 3s/step - loss: 1.1575e-06 - accuracy: 1.0000 - val_loss: 0.2366 - val_accuracy: 0.8935\n"
     ]
    }
   ],
   "source": [
    "import tensorflow as tf\n",
    "\n",
    "model = tf.keras.Sequential([\n",
    "    tf.keras.layers.Dense(units = 1000, kernel_initializer='he_normal', activation='relu'),\n",
    "    tf.keras.layers.Dropout(0.5),\n",
    "    tf.keras.layers.Dense(units = 500,  kernel_initializer='he_normal', activation='relu'),\n",
    "    tf.keras.layers.Dropout(0.5),\n",
    "    tf.keras.layers.Dense(units = 100, kernel_initializer='he_normal',activation='relu'),\n",
    "    tf.keras.layers.Dropout(0.2),\n",
    "    tf.keras.layers.Dense(units = 2, kernel_initializer='he_normal', activation='softmax')\n",
    "])\n",
    "\n",
    "callback = tf.keras.callbacks.EarlyStopping(monitor=\"val_loss\", patience = 3)\n",
    "\n",
    "model.compile(optimizer=tf.keras.optimizers.Adam(learning_rate=0.001),\n",
    "            loss='sparse_categorical_crossentropy',\n",
    "            metrics=['accuracy'])\n",
    "history = model.fit(train_X, train_Y, epochs=50, batch_size=100,validation_data=(test_X, test_Y), callbacks=[callback])"
   ]
  },
  {
   "cell_type": "code",
   "execution_count": 26,
   "id": "2f9c728f",
   "metadata": {
    "colab": {
     "base_uri": "https://localhost:8080/"
    },
    "executionInfo": {
     "elapsed": 704,
     "status": "ok",
     "timestamp": 1658381203853,
     "user": {
      "displayName": "이종원",
      "userId": "06643152930276410787"
     },
     "user_tz": -540
    },
    "id": "2f9c728f",
    "outputId": "036cafc1-b962-4950-98ac-38aabec2e2fc"
   },
   "outputs": [
    {
     "name": "stdout",
     "output_type": "stream",
     "text": [
      "Model: \"sequential_1\"\n",
      "_________________________________________________________________\n",
      "Layer (type)                 Output Shape              Param #   \n",
      "=================================================================\n",
      "dense_4 (Dense)              multiple                  0 (unused)\n",
      "_________________________________________________________________\n",
      "dropout_3 (Dropout)          multiple                  0 (unused)\n",
      "_________________________________________________________________\n",
      "dense_5 (Dense)              multiple                  0 (unused)\n",
      "_________________________________________________________________\n",
      "dropout_4 (Dropout)          multiple                  0 (unused)\n",
      "_________________________________________________________________\n",
      "dense_6 (Dense)              multiple                  0 (unused)\n",
      "_________________________________________________________________\n",
      "dropout_5 (Dropout)          multiple                  0 (unused)\n",
      "_________________________________________________________________\n",
      "dense_7 (Dense)              multiple                  0 (unused)\n",
      "=================================================================\n",
      "Total params: 0\n",
      "Trainable params: 0\n",
      "Non-trainable params: 0\n",
      "_________________________________________________________________\n"
     ]
    }
   ],
   "source": [
    "model.summary()"
   ]
  },
  {
   "cell_type": "code",
   "execution_count": 22,
   "id": "eIw0oeSHK9dN",
   "metadata": {
    "colab": {
     "base_uri": "https://localhost:8080/"
    },
    "executionInfo": {
     "elapsed": 2247,
     "status": "ok",
     "timestamp": 1658381209619,
     "user": {
      "displayName": "이종원",
      "userId": "06643152930276410787"
     },
     "user_tz": -540
    },
    "id": "eIw0oeSHK9dN",
    "outputId": "6efbc733-7291-4470-c43f-671fd9d5349a"
   },
   "outputs": [
    {
     "name": "stdout",
     "output_type": "stream",
     "text": [
      "7/7 [==============================] - 1s 107ms/step - loss: 0.1601 - accuracy: 0.9352\n"
     ]
    },
    {
     "data": {
      "text/plain": [
       "[0.1601024866104126, 0.9351851940155029]"
      ]
     },
     "execution_count": 22,
     "metadata": {},
     "output_type": "execute_result"
    }
   ],
   "source": [
    "import numpy as np\n",
    "model.evaluate(test_X,np.array(test_Y))"
   ]
  },
  {
   "cell_type": "code",
   "execution_count": 35,
   "id": "795d2d3a",
   "metadata": {},
   "outputs": [],
   "source": [
    "new_model = tf.keras.models.load_model('./my_model')"
   ]
  },
  {
   "cell_type": "code",
   "execution_count": 36,
   "id": "071b44cc",
   "metadata": {},
   "outputs": [
    {
     "name": "stdout",
     "output_type": "stream",
     "text": [
      "7/7 [==============================] - 1s 111ms/step - loss: 0.0170 - accuracy: 0.9907\n"
     ]
    },
    {
     "data": {
      "text/plain": [
       "[0.01696288026869297, 0.9907407164573669]"
      ]
     },
     "execution_count": 36,
     "metadata": {},
     "output_type": "execute_result"
    }
   ],
   "source": [
    "new_model.evaluate(test_X,np.array(test_Y))"
   ]
  },
  {
   "cell_type": "code",
   "execution_count": 36,
   "id": "uHjHLI6INMcn",
   "metadata": {
    "colab": {
     "base_uri": "https://localhost:8080/"
    },
    "executionInfo": {
     "elapsed": 20007,
     "status": "ok",
     "timestamp": 1658381615195,
     "user": {
      "displayName": "이종원",
      "userId": "06643152930276410787"
     },
     "user_tz": -540
    },
    "id": "uHjHLI6INMcn",
    "outputId": "10509678-c641-49d5-b1f1-9b085173d701"
   },
   "outputs": [
    {
     "name": "stdout",
     "output_type": "stream",
     "text": [
      "INFO:tensorflow:Assets written to: ./my_model/assets\n"
     ]
    }
   ],
   "source": [
    "model.save('./my_model')"
   ]
  },
  {
   "cell_type": "code",
   "execution_count": 31,
   "id": "JFzSj2pOOp-8",
   "metadata": {
    "colab": {
     "base_uri": "https://localhost:8080/",
     "height": 573
    },
    "executionInfo": {
     "elapsed": 830,
     "status": "ok",
     "timestamp": 1658381952601,
     "user": {
      "displayName": "이종원",
      "userId": "06643152930276410787"
     },
     "user_tz": -540
    },
    "id": "JFzSj2pOOp-8",
    "outputId": "45eb0620-cfda-46a7-832e-c365fa14a5a1"
   },
   "outputs": [
    {
     "data": {
      "image/png": "[encoded data removed]",
      "text/plain": [
       "<Figure size 432x288 with 1 Axes>"
      ]
     },
     "metadata": {
      "needs_background": "light"
     },
     "output_type": "display_data"
    },
    {
     "data": {
      "image/png": "[encoded data removed]",
      "text/plain": [
       "<Figure size 432x288 with 1 Axes>"
      ]
     },
     "metadata": {
      "needs_background": "light"
     },
     "output_type": "display_data"
    }
   ],
   "source": [
    "import matplotlib.pyplot as plt\n",
    "\n",
    "plt.plot(history.history['accuracy'])\n",
    "plt.plot(history.history['val_accuracy'])\n",
    "plt.title('Model accuracy')\n",
    "plt.xlabel('Epoch')\n",
    "plt.ylabel('Accuracy')\n",
    "plt.legend(['Train', 'Test'], loc='upper left')\n",
    "plt.show()\n",
    "\n",
    "# 7 훈련 과정 시각화 (손실)\n",
    "plt.plot(history.history['loss'])\n",
    "plt.plot(history.history['val_loss'])\n",
    "plt.title('Model loss')\n",
    "plt.xlabel('Epoch')\n",
    "plt.ylabel('Loss')\n",
    "plt.legend(['Train', 'Test'], loc='upper left')\n",
    "plt.show()"
   ]
  },
  {
   "cell_type": "code",
   "execution_count": 38,
   "id": "dacb22c1",
   "metadata": {},
   "outputs": [
    {
     "data": {
      "text/plain": [
       "array([1])"
      ]
     },
     "execution_count": 38,
     "metadata": {},
     "output_type": "execute_result"
    }
   ],
   "source": [
    "test_Y[100]"
   ]
  },
  {
   "cell_type": "code",
   "execution_count": 36,
   "id": "c26587d9",
   "metadata": {},
   "outputs": [],
   "source": [
    "n = model.predict(test_X[:30])"
   ]
  },
  {
   "cell_type": "code",
   "execution_count": 37,
   "id": "6cd138dd",
   "metadata": {},
   "outputs": [
    {
     "name": "stdout",
     "output_type": "stream",
     "text": [
      "x:  1  y:  [1]\n",
      "x:  1  y:  [1]\n",
      "x:  1  y:  [1]\n",
      "x:  1  y:  [1]\n",
      "x:  0  y:  [0]\n",
      "x:  1  y:  [1]\n",
      "x:  0  y:  [0]\n",
      "x:  0  y:  [0]\n",
      "x:  0  y:  [0]\n",
      "x:  1  y:  [1]\n",
      "x:  0  y:  [0]\n",
      "x:  0  y:  [0]\n",
      "x:  0  y:  [0]\n",
      "x:  1  y:  [1]\n",
      "x:  0  y:  [0]\n",
      "x:  1  y:  [1]\n",
      "x:  0  y:  [0]\n",
      "x:  0  y:  [1]\n",
      "x:  0  y:  [0]\n",
      "x:  0  y:  [0]\n",
      "x:  0  y:  [1]\n",
      "x:  1  y:  [1]\n",
      "x:  0  y:  [1]\n",
      "x:  1  y:  [1]\n",
      "x:  0  y:  [0]\n",
      "x:  0  y:  [0]\n",
      "x:  0  y:  [1]\n",
      "x:  1  y:  [1]\n",
      "x:  1  y:  [1]\n",
      "x:  1  y:  [1]\n"
     ]
    }
   ],
   "source": [
    "for i in range(len(n)):\n",
    "    print(\"x: \",n[i].argmax(),\" y: \",test_Y[i])"
   ]
  },
  {
   "cell_type": "code",
   "execution_count": 40,
   "id": "be9d5251",
   "metadata": {},
   "outputs": [],
   "source": [
    "df = df.sample(frac=1)"
   ]
  },
  {
   "cell_type": "code",
   "execution_count": 41,
   "id": "18776e60",
   "metadata": {},
   "outputs": [
    {
     "data": {
      "text/html": [
       "<div>\n",
       "<style scoped>\n",
       "    .dataframe tbody tr th:only-of-type {\n",
       "        vertical-align: middle;\n",
       "    }\n",
       "\n",
       "    .dataframe tbody tr th {\n",
       "        vertical-align: top;\n",
       "    }\n",
       "\n",
       "    .dataframe thead th {\n",
       "        text-align: right;\n",
       "    }\n",
       "</style>\n",
       "<table border=\"1\" class=\"dataframe\">\n",
       "  <thead>\n",
       "    <tr style=\"text-align: right;\">\n",
       "      <th></th>\n",
       "      <th>000</th>\n",
       "      <th>000 구입</th>\n",
       "      <th>000 구입 근데</th>\n",
       "      <th>000 사만</th>\n",
       "      <th>000 사만 으니까</th>\n",
       "      <th>000 와서</th>\n",
       "      <th>000 와서 지네</th>\n",
       "      <th>000 잖아</th>\n",
       "      <th>000 잖아 근데</th>\n",
       "      <th>000 칠천</th>\n",
       "      <th>...</th>\n",
       "      <th>힘없이</th>\n",
       "      <th>힘없이 이렇게</th>\n",
       "      <th>힘없이 이렇게 누워</th>\n",
       "      <th>힘주</th>\n",
       "      <th>힘주 어요</th>\n",
       "      <th>힘주 어요 본인</th>\n",
       "      <th>힙합</th>\n",
       "      <th>힙합 수업</th>\n",
       "      <th>힙합 수업 인수인계</th>\n",
       "      <th>label</th>\n",
       "    </tr>\n",
       "  </thead>\n",
       "  <tbody>\n",
       "    <tr>\n",
       "      <th>542</th>\n",
       "      <td>0.0</td>\n",
       "      <td>0.0</td>\n",
       "      <td>0.0</td>\n",
       "      <td>0.0</td>\n",
       "      <td>0.0</td>\n",
       "      <td>0.0</td>\n",
       "      <td>0.0</td>\n",
       "      <td>0.0</td>\n",
       "      <td>0.0</td>\n",
       "      <td>0.0</td>\n",
       "      <td>...</td>\n",
       "      <td>0.0</td>\n",
       "      <td>0.0</td>\n",
       "      <td>0.0</td>\n",
       "      <td>0.0</td>\n",
       "      <td>0.0</td>\n",
       "      <td>0.0</td>\n",
       "      <td>0.0</td>\n",
       "      <td>0.0</td>\n",
       "      <td>0.0</td>\n",
       "      <td>0</td>\n",
       "    </tr>\n",
       "    <tr>\n",
       "      <th>909</th>\n",
       "      <td>0.0</td>\n",
       "      <td>0.0</td>\n",
       "      <td>0.0</td>\n",
       "      <td>0.0</td>\n",
       "      <td>0.0</td>\n",
       "      <td>0.0</td>\n",
       "      <td>0.0</td>\n",
       "      <td>0.0</td>\n",
       "      <td>0.0</td>\n",
       "      <td>0.0</td>\n",
       "      <td>...</td>\n",
       "      <td>0.0</td>\n",
       "      <td>0.0</td>\n",
       "      <td>0.0</td>\n",
       "      <td>0.0</td>\n",
       "      <td>0.0</td>\n",
       "      <td>0.0</td>\n",
       "      <td>0.0</td>\n",
       "      <td>0.0</td>\n",
       "      <td>0.0</td>\n",
       "      <td>0</td>\n",
       "    </tr>\n",
       "    <tr>\n",
       "      <th>27</th>\n",
       "      <td>0.0</td>\n",
       "      <td>0.0</td>\n",
       "      <td>0.0</td>\n",
       "      <td>0.0</td>\n",
       "      <td>0.0</td>\n",
       "      <td>0.0</td>\n",
       "      <td>0.0</td>\n",
       "      <td>0.0</td>\n",
       "      <td>0.0</td>\n",
       "      <td>0.0</td>\n",
       "      <td>...</td>\n",
       "      <td>0.0</td>\n",
       "      <td>0.0</td>\n",
       "      <td>0.0</td>\n",
       "      <td>0.0</td>\n",
       "      <td>0.0</td>\n",
       "      <td>0.0</td>\n",
       "      <td>0.0</td>\n",
       "      <td>0.0</td>\n",
       "      <td>0.0</td>\n",
       "      <td>1</td>\n",
       "    </tr>\n",
       "    <tr>\n",
       "      <th>1011</th>\n",
       "      <td>0.0</td>\n",
       "      <td>0.0</td>\n",
       "      <td>0.0</td>\n",
       "      <td>0.0</td>\n",
       "      <td>0.0</td>\n",
       "      <td>0.0</td>\n",
       "      <td>0.0</td>\n",
       "      <td>0.0</td>\n",
       "      <td>0.0</td>\n",
       "      <td>0.0</td>\n",
       "      <td>...</td>\n",
       "      <td>0.0</td>\n",
       "      <td>0.0</td>\n",
       "      <td>0.0</td>\n",
       "      <td>0.0</td>\n",
       "      <td>0.0</td>\n",
       "      <td>0.0</td>\n",
       "      <td>0.0</td>\n",
       "      <td>0.0</td>\n",
       "      <td>0.0</td>\n",
       "      <td>0</td>\n",
       "    </tr>\n",
       "    <tr>\n",
       "      <th>243</th>\n",
       "      <td>0.0</td>\n",
       "      <td>0.0</td>\n",
       "      <td>0.0</td>\n",
       "      <td>0.0</td>\n",
       "      <td>0.0</td>\n",
       "      <td>0.0</td>\n",
       "      <td>0.0</td>\n",
       "      <td>0.0</td>\n",
       "      <td>0.0</td>\n",
       "      <td>0.0</td>\n",
       "      <td>...</td>\n",
       "      <td>0.0</td>\n",
       "      <td>0.0</td>\n",
       "      <td>0.0</td>\n",
       "      <td>0.0</td>\n",
       "      <td>0.0</td>\n",
       "      <td>0.0</td>\n",
       "      <td>0.0</td>\n",
       "      <td>0.0</td>\n",
       "      <td>0.0</td>\n",
       "      <td>1</td>\n",
       "    </tr>\n",
       "    <tr>\n",
       "      <th>...</th>\n",
       "      <td>...</td>\n",
       "      <td>...</td>\n",
       "      <td>...</td>\n",
       "      <td>...</td>\n",
       "      <td>...</td>\n",
       "      <td>...</td>\n",
       "      <td>...</td>\n",
       "      <td>...</td>\n",
       "      <td>...</td>\n",
       "      <td>...</td>\n",
       "      <td>...</td>\n",
       "      <td>...</td>\n",
       "      <td>...</td>\n",
       "      <td>...</td>\n",
       "      <td>...</td>\n",
       "      <td>...</td>\n",
       "      <td>...</td>\n",
       "      <td>...</td>\n",
       "      <td>...</td>\n",
       "      <td>...</td>\n",
       "      <td>...</td>\n",
       "    </tr>\n",
       "    <tr>\n",
       "      <th>721</th>\n",
       "      <td>0.0</td>\n",
       "      <td>0.0</td>\n",
       "      <td>0.0</td>\n",
       "      <td>0.0</td>\n",
       "      <td>0.0</td>\n",
       "      <td>0.0</td>\n",
       "      <td>0.0</td>\n",
       "      <td>0.0</td>\n",
       "      <td>0.0</td>\n",
       "      <td>0.0</td>\n",
       "      <td>...</td>\n",
       "      <td>0.0</td>\n",
       "      <td>0.0</td>\n",
       "      <td>0.0</td>\n",
       "      <td>0.0</td>\n",
       "      <td>0.0</td>\n",
       "      <td>0.0</td>\n",
       "      <td>0.0</td>\n",
       "      <td>0.0</td>\n",
       "      <td>0.0</td>\n",
       "      <td>0</td>\n",
       "    </tr>\n",
       "    <tr>\n",
       "      <th>660</th>\n",
       "      <td>0.0</td>\n",
       "      <td>0.0</td>\n",
       "      <td>0.0</td>\n",
       "      <td>0.0</td>\n",
       "      <td>0.0</td>\n",
       "      <td>0.0</td>\n",
       "      <td>0.0</td>\n",
       "      <td>0.0</td>\n",
       "      <td>0.0</td>\n",
       "      <td>0.0</td>\n",
       "      <td>...</td>\n",
       "      <td>0.0</td>\n",
       "      <td>0.0</td>\n",
       "      <td>0.0</td>\n",
       "      <td>0.0</td>\n",
       "      <td>0.0</td>\n",
       "      <td>0.0</td>\n",
       "      <td>0.0</td>\n",
       "      <td>0.0</td>\n",
       "      <td>0.0</td>\n",
       "      <td>0</td>\n",
       "    </tr>\n",
       "    <tr>\n",
       "      <th>240</th>\n",
       "      <td>0.0</td>\n",
       "      <td>0.0</td>\n",
       "      <td>0.0</td>\n",
       "      <td>0.0</td>\n",
       "      <td>0.0</td>\n",
       "      <td>0.0</td>\n",
       "      <td>0.0</td>\n",
       "      <td>0.0</td>\n",
       "      <td>0.0</td>\n",
       "      <td>0.0</td>\n",
       "      <td>...</td>\n",
       "      <td>0.0</td>\n",
       "      <td>0.0</td>\n",
       "      <td>0.0</td>\n",
       "      <td>0.0</td>\n",
       "      <td>0.0</td>\n",
       "      <td>0.0</td>\n",
       "      <td>0.0</td>\n",
       "      <td>0.0</td>\n",
       "      <td>0.0</td>\n",
       "      <td>1</td>\n",
       "    </tr>\n",
       "    <tr>\n",
       "      <th>570</th>\n",
       "      <td>0.0</td>\n",
       "      <td>0.0</td>\n",
       "      <td>0.0</td>\n",
       "      <td>0.0</td>\n",
       "      <td>0.0</td>\n",
       "      <td>0.0</td>\n",
       "      <td>0.0</td>\n",
       "      <td>0.0</td>\n",
       "      <td>0.0</td>\n",
       "      <td>0.0</td>\n",
       "      <td>...</td>\n",
       "      <td>0.0</td>\n",
       "      <td>0.0</td>\n",
       "      <td>0.0</td>\n",
       "      <td>0.0</td>\n",
       "      <td>0.0</td>\n",
       "      <td>0.0</td>\n",
       "      <td>0.0</td>\n",
       "      <td>0.0</td>\n",
       "      <td>0.0</td>\n",
       "      <td>0</td>\n",
       "    </tr>\n",
       "    <tr>\n",
       "      <th>90</th>\n",
       "      <td>0.0</td>\n",
       "      <td>0.0</td>\n",
       "      <td>0.0</td>\n",
       "      <td>0.0</td>\n",
       "      <td>0.0</td>\n",
       "      <td>0.0</td>\n",
       "      <td>0.0</td>\n",
       "      <td>0.0</td>\n",
       "      <td>0.0</td>\n",
       "      <td>0.0</td>\n",
       "      <td>...</td>\n",
       "      <td>0.0</td>\n",
       "      <td>0.0</td>\n",
       "      <td>0.0</td>\n",
       "      <td>0.0</td>\n",
       "      <td>0.0</td>\n",
       "      <td>0.0</td>\n",
       "      <td>0.0</td>\n",
       "      <td>0.0</td>\n",
       "      <td>0.0</td>\n",
       "      <td>1</td>\n",
       "    </tr>\n",
       "  </tbody>\n",
       "</table>\n",
       "<p>1083 rows × 358824 columns</p>\n",
       "</div>"
      ],
      "text/plain": [
       "      000  000 구입  000 구입 근데  000 사만  000 사만 으니까  000 와서  000 와서 지네  000 잖아  \\\n",
       "542   0.0     0.0        0.0     0.0         0.0     0.0        0.0     0.0   \n",
       "909   0.0     0.0        0.0     0.0         0.0     0.0        0.0     0.0   \n",
       "27    0.0     0.0        0.0     0.0         0.0     0.0        0.0     0.0   \n",
       "1011  0.0     0.0        0.0     0.0         0.0     0.0        0.0     0.0   \n",
       "243   0.0     0.0        0.0     0.0         0.0     0.0        0.0     0.0   \n",
       "...   ...     ...        ...     ...         ...     ...        ...     ...   \n",
       "721   0.0     0.0        0.0     0.0         0.0     0.0        0.0     0.0   \n",
       "660   0.0     0.0        0.0     0.0         0.0     0.0        0.0     0.0   \n",
       "240   0.0     0.0        0.0     0.0         0.0     0.0        0.0     0.0   \n",
       "570   0.0     0.0        0.0     0.0         0.0     0.0        0.0     0.0   \n",
       "90    0.0     0.0        0.0     0.0         0.0     0.0        0.0     0.0   \n",
       "\n",
       "      000 잖아 근데  000 칠천  ...  힘없이  힘없이 이렇게  힘없이 이렇게 누워   힘주  힘주 어요  힘주 어요 본인  \\\n",
       "542         0.0     0.0  ...  0.0      0.0         0.0  0.0    0.0       0.0   \n",
       "909         0.0     0.0  ...  0.0      0.0         0.0  0.0    0.0       0.0   \n",
       "27          0.0     0.0  ...  0.0      0.0         0.0  0.0    0.0       0.0   \n",
       "1011        0.0     0.0  ...  0.0      0.0         0.0  0.0    0.0       0.0   \n",
       "243         0.0     0.0  ...  0.0      0.0         0.0  0.0    0.0       0.0   \n",
       "...         ...     ...  ...  ...      ...         ...  ...    ...       ...   \n",
       "721         0.0     0.0  ...  0.0      0.0         0.0  0.0    0.0       0.0   \n",
       "660         0.0     0.0  ...  0.0      0.0         0.0  0.0    0.0       0.0   \n",
       "240         0.0     0.0  ...  0.0      0.0         0.0  0.0    0.0       0.0   \n",
       "570         0.0     0.0  ...  0.0      0.0         0.0  0.0    0.0       0.0   \n",
       "90          0.0     0.0  ...  0.0      0.0         0.0  0.0    0.0       0.0   \n",
       "\n",
       "       힙합  힙합 수업  힙합 수업 인수인계  label  \n",
       "542   0.0    0.0         0.0      0  \n",
       "909   0.0    0.0         0.0      0  \n",
       "27    0.0    0.0         0.0      1  \n",
       "1011  0.0    0.0         0.0      0  \n",
       "243   0.0    0.0         0.0      1  \n",
       "...   ...    ...         ...    ...  \n",
       "721   0.0    0.0         0.0      0  \n",
       "660   0.0    0.0         0.0      0  \n",
       "240   0.0    0.0         0.0      1  \n",
       "570   0.0    0.0         0.0      0  \n",
       "90    0.0    0.0         0.0      1  \n",
       "\n",
       "[1083 rows x 358824 columns]"
      ]
     },
     "execution_count": 41,
     "metadata": {},
     "output_type": "execute_result"
    }
   ],
   "source": [
    "df"
   ]
  },
  {
   "cell_type": "code",
   "execution_count": 42,
   "id": "c74063b9",
   "metadata": {},
   "outputs": [],
   "source": [
    "data = df.iloc[:,:-1].to_numpy()\n",
    "label = df.iloc[:,-1:].to_numpy()"
   ]
  },
  {
   "cell_type": "code",
   "execution_count": 43,
   "id": "072eb699",
   "metadata": {},
   "outputs": [
    {
     "name": "stdout",
     "output_type": "stream",
     "text": [
      "34/34 [==============================] - 5s 145ms/step - loss: 0.0186 - accuracy: 0.9945\n"
     ]
    },
    {
     "data": {
      "text/plain": [
       "[0.018637288361787796, 0.9944598078727722]"
      ]
     },
     "execution_count": 43,
     "metadata": {},
     "output_type": "execute_result"
    }
   ],
   "source": [
    "new_model.evaluate(data,label)"
   ]
  },
  {
   "cell_type": "code",
   "execution_count": null,
   "id": "1a6e9c4b",
   "metadata": {},
   "outputs": [],
   "source": []
  }
 ],
 "metadata": {
  "accelerator": "GPU",
  "colab": {
   "name": "process.ipynb",
   "provenance": []
  },
  "gpuClass": "standard",
  "kernelspec": {
   "display_name": "Python 3",
   "language": "python",
   "name": "python3"
  },
  "language_info": {
   "codemirror_mode": {
    "name": "ipython",
    "version": 3
   },
   "file_extension": ".py",
   "mimetype": "text/x-python",
   "name": "python",
   "nbconvert_exporter": "python",
   "pygments_lexer": "ipython3",
   "version": "3.8.8"
  }
 },
 "nbformat": 4,
 "nbformat_minor": 5
}
